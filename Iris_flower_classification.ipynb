{
 "cells": [
  {
   "cell_type": "code",
   "execution_count": 2,
   "id": "42f7a454",
   "metadata": {},
   "outputs": [
    {
     "name": "stdout",
     "output_type": "stream",
     "text": [
      "Collecting pandas_profiling\n",
      "  Downloading pandas_profiling-3.6.6-py2.py3-none-any.whl (324 kB)\n",
      "\u001b[K     |████████████████████████████████| 324 kB 1.6 MB/s eta 0:00:01\n",
      "\u001b[?25hCollecting ydata-profiling\n",
      "  Downloading ydata_profiling-4.1.2-py2.py3-none-any.whl (345 kB)\n",
      "\u001b[K     |████████████████████████████████| 345 kB 17.4 MB/s eta 0:00:01\n",
      "\u001b[?25hRequirement already satisfied: pandas!=1.4.0,<1.6,>1.1 in /Users/sprohit/opt/anaconda3/lib/python3.9/site-packages (from ydata-profiling->pandas_profiling) (1.5.3)\n",
      "Collecting typeguard<2.14,>=2.13.2\n",
      "  Downloading typeguard-2.13.3-py3-none-any.whl (17 kB)\n",
      "Collecting numpy<1.24,>=1.16.0\n",
      "  Downloading numpy-1.23.5-cp39-cp39-macosx_10_9_x86_64.whl (18.1 MB)\n",
      "\u001b[K     |████████████████████████████████| 18.1 MB 2.1 MB/s eta 0:00:011\n",
      "\u001b[?25hCollecting imagehash==4.3.1\n",
      "  Downloading ImageHash-4.3.1-py2.py3-none-any.whl (296 kB)\n",
      "\u001b[K     |████████████████████████████████| 296 kB 10.7 MB/s eta 0:00:01\n",
      "\u001b[?25hRequirement already satisfied: seaborn<0.13,>=0.10.1 in /Users/sprohit/opt/anaconda3/lib/python3.9/site-packages (from ydata-profiling->pandas_profiling) (0.12.2)\n",
      "Collecting htmlmin==0.1.12\n",
      "  Downloading htmlmin-0.1.12.tar.gz (19 kB)\n",
      "Requirement already satisfied: tqdm<4.65,>=4.48.2 in /Users/sprohit/opt/anaconda3/lib/python3.9/site-packages (from ydata-profiling->pandas_profiling) (4.64.1)\n",
      "Collecting statsmodels<0.14,>=0.13.2\n",
      "  Downloading statsmodels-0.13.5-cp39-cp39-macosx_10_9_x86_64.whl (9.7 MB)\n",
      "\u001b[K     |████████████████████████████████| 9.7 MB 614 kB/s eta 0:00:01\n",
      "\u001b[?25hRequirement already satisfied: matplotlib<3.7,>=3.2 in /Users/sprohit/opt/anaconda3/lib/python3.9/site-packages (from ydata-profiling->pandas_profiling) (3.6.3)\n",
      "Requirement already satisfied: PyYAML<6.1,>=5.0.0 in /Users/sprohit/opt/anaconda3/lib/python3.9/site-packages (from ydata-profiling->pandas_profiling) (6.0)\n",
      "Collecting scipy<1.10,>=1.4.1\n",
      "  Downloading scipy-1.9.3-cp39-cp39-macosx_10_9_x86_64.whl (34.3 MB)\n",
      "\u001b[K     |████████████████████████████████| 34.3 MB 12.2 MB/s eta 0:00:01    |███▋                            | 3.9 MB 10.7 MB/s eta 0:00:03     |██████████████████████▏         | 23.7 MB 9.4 MB/s eta 0:00:02\n",
      "\u001b[?25hRequirement already satisfied: jinja2<3.2,>=2.11.1 in /Users/sprohit/opt/anaconda3/lib/python3.9/site-packages (from ydata-profiling->pandas_profiling) (2.11.3)\n",
      "Collecting phik<0.13,>=0.11.1\n",
      "  Downloading phik-0.12.3-cp39-cp39-macosx_10_13_x86_64.whl (652 kB)\n",
      "\u001b[K     |████████████████████████████████| 652 kB 13.3 MB/s eta 0:00:01\n",
      "\u001b[?25hCollecting visions[type_image_path]==0.7.5\n",
      "  Downloading visions-0.7.5-py3-none-any.whl (102 kB)\n",
      "\u001b[K     |████████████████████████████████| 102 kB 17.6 MB/s eta 0:00:01\n",
      "\u001b[?25hRequirement already satisfied: requests<2.29,>=2.24.0 in /Users/sprohit/opt/anaconda3/lib/python3.9/site-packages (from ydata-profiling->pandas_profiling) (2.26.0)\n",
      "Requirement already satisfied: pydantic<1.11,>=1.8.1 in /Users/sprohit/opt/anaconda3/lib/python3.9/site-packages (from ydata-profiling->pandas_profiling) (1.9.2)\n",
      "Collecting multimethod<1.10,>=1.4\n",
      "  Downloading multimethod-1.9.1-py3-none-any.whl (10 kB)\n",
      "Requirement already satisfied: PyWavelets in /Users/sprohit/opt/anaconda3/lib/python3.9/site-packages (from imagehash==4.3.1->ydata-profiling->pandas_profiling) (1.1.1)\n",
      "Requirement already satisfied: pillow in /Users/sprohit/opt/anaconda3/lib/python3.9/site-packages (from imagehash==4.3.1->ydata-profiling->pandas_profiling) (9.4.0)\n",
      "Requirement already satisfied: networkx>=2.4 in /Users/sprohit/opt/anaconda3/lib/python3.9/site-packages (from visions[type_image_path]==0.7.5->ydata-profiling->pandas_profiling) (2.6.3)\n",
      "Collecting tangled-up-in-unicode>=0.0.4\n",
      "  Downloading tangled_up_in_unicode-0.2.0-py3-none-any.whl (4.7 MB)\n",
      "\u001b[K     |████████████████████████████████| 4.7 MB 21.5 MB/s eta 0:00:01\n",
      "\u001b[?25hRequirement already satisfied: attrs>=19.3.0 in /Users/sprohit/opt/anaconda3/lib/python3.9/site-packages (from visions[type_image_path]==0.7.5->ydata-profiling->pandas_profiling) (21.2.0)\n",
      "Requirement already satisfied: MarkupSafe>=0.23 in /Users/sprohit/opt/anaconda3/lib/python3.9/site-packages (from jinja2<3.2,>=2.11.1->ydata-profiling->pandas_profiling) (1.1.1)\n",
      "Requirement already satisfied: pyparsing>=2.2.1 in /Users/sprohit/opt/anaconda3/lib/python3.9/site-packages (from matplotlib<3.7,>=3.2->ydata-profiling->pandas_profiling) (3.0.4)\n",
      "Requirement already satisfied: python-dateutil>=2.7 in /Users/sprohit/opt/anaconda3/lib/python3.9/site-packages (from matplotlib<3.7,>=3.2->ydata-profiling->pandas_profiling) (2.8.2)\n",
      "Requirement already satisfied: fonttools>=4.22.0 in /Users/sprohit/opt/anaconda3/lib/python3.9/site-packages (from matplotlib<3.7,>=3.2->ydata-profiling->pandas_profiling) (4.25.0)\n",
      "Requirement already satisfied: cycler>=0.10 in /Users/sprohit/opt/anaconda3/lib/python3.9/site-packages (from matplotlib<3.7,>=3.2->ydata-profiling->pandas_profiling) (0.10.0)\n",
      "Requirement already satisfied: packaging>=20.0 in /Users/sprohit/opt/anaconda3/lib/python3.9/site-packages (from matplotlib<3.7,>=3.2->ydata-profiling->pandas_profiling) (21.0)\n",
      "Requirement already satisfied: contourpy>=1.0.1 in /Users/sprohit/opt/anaconda3/lib/python3.9/site-packages (from matplotlib<3.7,>=3.2->ydata-profiling->pandas_profiling) (1.0.7)\n",
      "Requirement already satisfied: kiwisolver>=1.0.1 in /Users/sprohit/opt/anaconda3/lib/python3.9/site-packages (from matplotlib<3.7,>=3.2->ydata-profiling->pandas_profiling) (1.3.1)\n",
      "Requirement already satisfied: six in /Users/sprohit/opt/anaconda3/lib/python3.9/site-packages (from cycler>=0.10->matplotlib<3.7,>=3.2->ydata-profiling->pandas_profiling) (1.16.0)\n",
      "Requirement already satisfied: pytz>=2020.1 in /Users/sprohit/opt/anaconda3/lib/python3.9/site-packages (from pandas!=1.4.0,<1.6,>1.1->ydata-profiling->pandas_profiling) (2021.3)\n",
      "Requirement already satisfied: joblib>=0.14.1 in /Users/sprohit/opt/anaconda3/lib/python3.9/site-packages (from phik<0.13,>=0.11.1->ydata-profiling->pandas_profiling) (1.1.0)\n",
      "Requirement already satisfied: typing-extensions>=3.7.4.3 in /Users/sprohit/opt/anaconda3/lib/python3.9/site-packages (from pydantic<1.11,>=1.8.1->ydata-profiling->pandas_profiling) (3.10.0.2)\n",
      "Requirement already satisfied: urllib3<1.27,>=1.21.1 in /Users/sprohit/opt/anaconda3/lib/python3.9/site-packages (from requests<2.29,>=2.24.0->ydata-profiling->pandas_profiling) (1.26.7)\n",
      "Requirement already satisfied: charset-normalizer~=2.0.0 in /Users/sprohit/opt/anaconda3/lib/python3.9/site-packages (from requests<2.29,>=2.24.0->ydata-profiling->pandas_profiling) (2.0.12)\n",
      "Requirement already satisfied: idna<4,>=2.5 in /Users/sprohit/opt/anaconda3/lib/python3.9/site-packages (from requests<2.29,>=2.24.0->ydata-profiling->pandas_profiling) (3.2)\n",
      "Requirement already satisfied: certifi>=2017.4.17 in /Users/sprohit/opt/anaconda3/lib/python3.9/site-packages (from requests<2.29,>=2.24.0->ydata-profiling->pandas_profiling) (2021.10.8)\n",
      "Collecting packaging>=20.0\n",
      "  Downloading packaging-23.1-py3-none-any.whl (48 kB)\n",
      "\u001b[K     |████████████████████████████████| 48 kB 11.2 MB/s eta 0:00:01\n",
      "\u001b[?25hRequirement already satisfied: patsy>=0.5.2 in /Users/sprohit/opt/anaconda3/lib/python3.9/site-packages (from statsmodels<0.14,>=0.13.2->ydata-profiling->pandas_profiling) (0.5.2)\n",
      "Building wheels for collected packages: htmlmin\n",
      "  Building wheel for htmlmin (setup.py) ... \u001b[?25ldone\n",
      "\u001b[?25h  Created wheel for htmlmin: filename=htmlmin-0.1.12-py3-none-any.whl size=27098 sha256=918c24f2546c9532213f285f18de592b9c6b200182bf7de17fed84ecf3a76db5\n",
      "  Stored in directory: /Users/sprohit/Library/Caches/pip/wheels/1d/05/04/c6d7d3b66539d9e659ac6dfe81e2d0fd4c1a8316cc5a403300\n",
      "Successfully built htmlmin\n",
      "Installing collected packages: numpy, tangled-up-in-unicode, scipy, packaging, multimethod, visions, imagehash, typeguard, statsmodels, phik, htmlmin, ydata-profiling, pandas-profiling\n",
      "  Attempting uninstall: numpy\n",
      "    Found existing installation: numpy 1.24.2\n",
      "    Uninstalling numpy-1.24.2:\n",
      "      Successfully uninstalled numpy-1.24.2\n",
      "  Attempting uninstall: scipy\n",
      "    Found existing installation: scipy 1.10.0\n",
      "    Uninstalling scipy-1.10.0:\n",
      "      Successfully uninstalled scipy-1.10.0\n",
      "  Attempting uninstall: packaging\n",
      "    Found existing installation: packaging 21.0\n"
     ]
    },
    {
     "name": "stdout",
     "output_type": "stream",
     "text": [
      "    Uninstalling packaging-21.0:\n",
      "      Successfully uninstalled packaging-21.0\n",
      "  Attempting uninstall: statsmodels\n",
      "    Found existing installation: statsmodels 0.12.2\n",
      "    Uninstalling statsmodels-0.12.2:\n",
      "      Successfully uninstalled statsmodels-0.12.2\n",
      "\u001b[31mERROR: pip's dependency resolver does not currently take into account all the packages that are installed. This behaviour is the source of the following dependency conflicts.\n",
      "daal4py 2021.3.0 requires daal==2021.2.3, which is not installed.\n",
      "numba 0.54.1 requires numpy<1.21,>=1.17, but you have numpy 1.23.5 which is incompatible.\u001b[0m\n",
      "Successfully installed htmlmin-0.1.12 imagehash-4.3.1 multimethod-1.9.1 numpy-1.23.5 packaging-23.1 pandas-profiling-3.6.6 phik-0.12.3 scipy-1.9.3 statsmodels-0.13.5 tangled-up-in-unicode-0.2.0 typeguard-2.13.3 visions-0.7.5 ydata-profiling-4.1.2\n"
     ]
    }
   ],
   "source": [
    "!pip install pandas_profiling"
   ]
  },
  {
   "cell_type": "code",
   "execution_count": 1,
   "id": "24ba3157",
   "metadata": {},
   "outputs": [],
   "source": [
    "# import common libraries\n",
    "import pandas as pd\n",
    "import numpy as np\n",
    "import matplotlib.pyplot as plt\n",
    "import seaborn as sns\n",
    "import math\n",
    "import operator\n",
    "\n",
    "# import specific components from scikit-learn\n",
    "from sklearn.model_selection import train_test_split\n",
    "from sklearn.model_selection import cross_val_score\n",
    "from sklearn.preprocessing import StandardScaler\n",
    "from sklearn.neighbors import KNeighborsClassifier\n",
    "from sklearn.metrics import mean_absolute_error, mean_squared_error, r2_score\n",
    "from sklearn.metrics import accuracy_score\n",
    "from sklearn.metrics import classification_report\n",
    "from sklearn.metrics import recall_score , precision_score , roc_auc_score ,roc_curve\n",
    "from sklearn.metrics import confusion_matrix\n",
    "from sklearn.svm import SVC\n",
    "\n",
    "# enhanced stats functions\n",
    "from scipy import stats\n",
    "\n",
    "# for ease of data profiling\n",
    "# from pandas_profiling import ProfileReport\n",
    "\n",
    "# for removal of warnings\n",
    "import warnings\n",
    "warnings.filterwarnings(\"ignore\")"
   ]
  },
  {
   "cell_type": "code",
   "execution_count": 2,
   "id": "ab0c2680",
   "metadata": {},
   "outputs": [
    {
     "name": "stdout",
     "output_type": "stream",
     "text": [
      "pandas version  : 1.5.3\n",
      "numpy version   : 1.23.5\n",
      "seaborn version : 0.12.2\n"
     ]
    }
   ],
   "source": [
    "# print environment setup details\n",
    "print(f\"pandas version  : {pd.__version__}\")  # 1.4.3\n",
    "print(f\"numpy version   : {np.__version__}\")  # 1.23.1\n",
    "print(f\"seaborn version : {sns.__version__}\") # 0.11.2"
   ]
  },
  {
   "cell_type": "code",
   "execution_count": 3,
   "id": "a460f3ac",
   "metadata": {},
   "outputs": [],
   "source": [
    "SEED = 123\n",
    "np.random.seed(SEED)"
   ]
  },
  {
   "cell_type": "code",
   "execution_count": 4,
   "id": "d61a4596",
   "metadata": {},
   "outputs": [
    {
     "data": {
      "text/html": [
       "<div>\n",
       "<style scoped>\n",
       "    .dataframe tbody tr th:only-of-type {\n",
       "        vertical-align: middle;\n",
       "    }\n",
       "\n",
       "    .dataframe tbody tr th {\n",
       "        vertical-align: top;\n",
       "    }\n",
       "\n",
       "    .dataframe thead th {\n",
       "        text-align: right;\n",
       "    }\n",
       "</style>\n",
       "<table border=\"1\" class=\"dataframe\">\n",
       "  <thead>\n",
       "    <tr style=\"text-align: right;\">\n",
       "      <th></th>\n",
       "      <th>Id</th>\n",
       "      <th>SepalLengthCm</th>\n",
       "      <th>SepalWidthCm</th>\n",
       "      <th>PetalLengthCm</th>\n",
       "      <th>PetalWidthCm</th>\n",
       "      <th>Species</th>\n",
       "    </tr>\n",
       "  </thead>\n",
       "  <tbody>\n",
       "    <tr>\n",
       "      <th>0</th>\n",
       "      <td>1</td>\n",
       "      <td>5.1</td>\n",
       "      <td>3.5</td>\n",
       "      <td>1.4</td>\n",
       "      <td>0.2</td>\n",
       "      <td>Iris-setosa</td>\n",
       "    </tr>\n",
       "    <tr>\n",
       "      <th>1</th>\n",
       "      <td>2</td>\n",
       "      <td>4.9</td>\n",
       "      <td>3.0</td>\n",
       "      <td>1.4</td>\n",
       "      <td>0.2</td>\n",
       "      <td>Iris-setosa</td>\n",
       "    </tr>\n",
       "    <tr>\n",
       "      <th>2</th>\n",
       "      <td>3</td>\n",
       "      <td>4.7</td>\n",
       "      <td>3.2</td>\n",
       "      <td>1.3</td>\n",
       "      <td>0.2</td>\n",
       "      <td>Iris-setosa</td>\n",
       "    </tr>\n",
       "    <tr>\n",
       "      <th>3</th>\n",
       "      <td>4</td>\n",
       "      <td>4.6</td>\n",
       "      <td>3.1</td>\n",
       "      <td>1.5</td>\n",
       "      <td>0.2</td>\n",
       "      <td>Iris-setosa</td>\n",
       "    </tr>\n",
       "    <tr>\n",
       "      <th>4</th>\n",
       "      <td>5</td>\n",
       "      <td>5.0</td>\n",
       "      <td>3.6</td>\n",
       "      <td>1.4</td>\n",
       "      <td>0.2</td>\n",
       "      <td>Iris-setosa</td>\n",
       "    </tr>\n",
       "  </tbody>\n",
       "</table>\n",
       "</div>"
      ],
      "text/plain": [
       "   Id  SepalLengthCm  SepalWidthCm  PetalLengthCm  PetalWidthCm      Species\n",
       "0   1            5.1           3.5            1.4           0.2  Iris-setosa\n",
       "1   2            4.9           3.0            1.4           0.2  Iris-setosa\n",
       "2   3            4.7           3.2            1.3           0.2  Iris-setosa\n",
       "3   4            4.6           3.1            1.5           0.2  Iris-setosa\n",
       "4   5            5.0           3.6            1.4           0.2  Iris-setosa"
      ]
     },
     "execution_count": 4,
     "metadata": {},
     "output_type": "execute_result"
    }
   ],
   "source": [
    "iris = pd.read_csv('./iris.csv')\n",
    "iris.head()"
   ]
  },
  {
   "cell_type": "code",
   "execution_count": 12,
   "id": "25907209",
   "metadata": {},
   "outputs": [
    {
     "name": "stdout",
     "output_type": "stream",
     "text": [
      "Found existing installation: pandas-profiling 3.6.6\n",
      "Uninstalling pandas-profiling-3.6.6:\n",
      "  Successfully uninstalled pandas-profiling-3.6.6\n"
     ]
    }
   ],
   "source": [
    "!pip uninstall -y pandas-profiling"
   ]
  },
  {
   "cell_type": "code",
   "execution_count": 13,
   "id": "b851483e",
   "metadata": {},
   "outputs": [
    {
     "name": "stdout",
     "output_type": "stream",
     "text": [
      "Collecting pandas-profiling\n",
      "  Using cached pandas_profiling-3.6.6-py2.py3-none-any.whl (324 kB)\n",
      "Requirement already satisfied: ydata-profiling in /Users/sprohit/opt/anaconda3/lib/python3.9/site-packages (from pandas-profiling) (4.1.2)\n",
      "Requirement already satisfied: multimethod<1.10,>=1.4 in /Users/sprohit/opt/anaconda3/lib/python3.9/site-packages (from ydata-profiling->pandas-profiling) (1.9.1)\n",
      "Requirement already satisfied: typeguard<2.14,>=2.13.2 in /Users/sprohit/opt/anaconda3/lib/python3.9/site-packages (from ydata-profiling->pandas-profiling) (2.13.3)\n",
      "Requirement already satisfied: visions[type_image_path]==0.7.5 in /Users/sprohit/opt/anaconda3/lib/python3.9/site-packages (from ydata-profiling->pandas-profiling) (0.7.5)\n",
      "Requirement already satisfied: seaborn<0.13,>=0.10.1 in /Users/sprohit/opt/anaconda3/lib/python3.9/site-packages (from ydata-profiling->pandas-profiling) (0.12.2)\n",
      "Requirement already satisfied: PyYAML<6.1,>=5.0.0 in /Users/sprohit/opt/anaconda3/lib/python3.9/site-packages (from ydata-profiling->pandas-profiling) (6.0)\n",
      "Requirement already satisfied: matplotlib<3.7,>=3.2 in /Users/sprohit/opt/anaconda3/lib/python3.9/site-packages (from ydata-profiling->pandas-profiling) (3.6.3)\n",
      "Requirement already satisfied: tqdm<4.65,>=4.48.2 in /Users/sprohit/opt/anaconda3/lib/python3.9/site-packages (from ydata-profiling->pandas-profiling) (4.64.1)\n",
      "Requirement already satisfied: phik<0.13,>=0.11.1 in /Users/sprohit/opt/anaconda3/lib/python3.9/site-packages (from ydata-profiling->pandas-profiling) (0.12.3)\n",
      "Requirement already satisfied: requests<2.29,>=2.24.0 in /Users/sprohit/opt/anaconda3/lib/python3.9/site-packages (from ydata-profiling->pandas-profiling) (2.26.0)\n",
      "Requirement already satisfied: scipy<1.10,>=1.4.1 in /Users/sprohit/opt/anaconda3/lib/python3.9/site-packages (from ydata-profiling->pandas-profiling) (1.9.3)\n",
      "Requirement already satisfied: jinja2<3.2,>=2.11.1 in /Users/sprohit/opt/anaconda3/lib/python3.9/site-packages (from ydata-profiling->pandas-profiling) (2.11.3)\n",
      "Requirement already satisfied: statsmodels<0.14,>=0.13.2 in /Users/sprohit/opt/anaconda3/lib/python3.9/site-packages (from ydata-profiling->pandas-profiling) (0.13.5)\n",
      "Requirement already satisfied: pydantic<1.11,>=1.8.1 in /Users/sprohit/opt/anaconda3/lib/python3.9/site-packages (from ydata-profiling->pandas-profiling) (1.9.2)\n",
      "Requirement already satisfied: numpy<1.24,>=1.16.0 in /Users/sprohit/opt/anaconda3/lib/python3.9/site-packages (from ydata-profiling->pandas-profiling) (1.23.5)\n",
      "Requirement already satisfied: pandas!=1.4.0,<1.6,>1.1 in /Users/sprohit/opt/anaconda3/lib/python3.9/site-packages (from ydata-profiling->pandas-profiling) (1.5.3)\n",
      "Requirement already satisfied: imagehash==4.3.1 in /Users/sprohit/opt/anaconda3/lib/python3.9/site-packages (from ydata-profiling->pandas-profiling) (4.3.1)\n",
      "Requirement already satisfied: htmlmin==0.1.12 in /Users/sprohit/opt/anaconda3/lib/python3.9/site-packages (from ydata-profiling->pandas-profiling) (0.1.12)\n",
      "Requirement already satisfied: pillow in /Users/sprohit/opt/anaconda3/lib/python3.9/site-packages (from imagehash==4.3.1->ydata-profiling->pandas-profiling) (9.4.0)\n",
      "Requirement already satisfied: PyWavelets in /Users/sprohit/opt/anaconda3/lib/python3.9/site-packages (from imagehash==4.3.1->ydata-profiling->pandas-profiling) (1.1.1)\n",
      "Requirement already satisfied: attrs>=19.3.0 in /Users/sprohit/opt/anaconda3/lib/python3.9/site-packages (from visions[type_image_path]==0.7.5->ydata-profiling->pandas-profiling) (21.2.0)\n",
      "Requirement already satisfied: tangled-up-in-unicode>=0.0.4 in /Users/sprohit/opt/anaconda3/lib/python3.9/site-packages (from visions[type_image_path]==0.7.5->ydata-profiling->pandas-profiling) (0.2.0)\n",
      "Requirement already satisfied: networkx>=2.4 in /Users/sprohit/opt/anaconda3/lib/python3.9/site-packages (from visions[type_image_path]==0.7.5->ydata-profiling->pandas-profiling) (2.6.3)\n",
      "Requirement already satisfied: MarkupSafe>=0.23 in /Users/sprohit/opt/anaconda3/lib/python3.9/site-packages (from jinja2<3.2,>=2.11.1->ydata-profiling->pandas-profiling) (1.1.1)\n",
      "Requirement already satisfied: contourpy>=1.0.1 in /Users/sprohit/opt/anaconda3/lib/python3.9/site-packages (from matplotlib<3.7,>=3.2->ydata-profiling->pandas-profiling) (1.0.7)\n",
      "Requirement already satisfied: python-dateutil>=2.7 in /Users/sprohit/opt/anaconda3/lib/python3.9/site-packages (from matplotlib<3.7,>=3.2->ydata-profiling->pandas-profiling) (2.8.2)\n",
      "Requirement already satisfied: cycler>=0.10 in /Users/sprohit/opt/anaconda3/lib/python3.9/site-packages (from matplotlib<3.7,>=3.2->ydata-profiling->pandas-profiling) (0.10.0)\n",
      "Requirement already satisfied: pyparsing>=2.2.1 in /Users/sprohit/opt/anaconda3/lib/python3.9/site-packages (from matplotlib<3.7,>=3.2->ydata-profiling->pandas-profiling) (3.0.4)\n",
      "Requirement already satisfied: packaging>=20.0 in /Users/sprohit/opt/anaconda3/lib/python3.9/site-packages (from matplotlib<3.7,>=3.2->ydata-profiling->pandas-profiling) (23.1)\n",
      "Requirement already satisfied: fonttools>=4.22.0 in /Users/sprohit/opt/anaconda3/lib/python3.9/site-packages (from matplotlib<3.7,>=3.2->ydata-profiling->pandas-profiling) (4.25.0)\n",
      "Requirement already satisfied: kiwisolver>=1.0.1 in /Users/sprohit/opt/anaconda3/lib/python3.9/site-packages (from matplotlib<3.7,>=3.2->ydata-profiling->pandas-profiling) (1.3.1)\n",
      "Requirement already satisfied: six in /Users/sprohit/opt/anaconda3/lib/python3.9/site-packages (from cycler>=0.10->matplotlib<3.7,>=3.2->ydata-profiling->pandas-profiling) (1.16.0)\n",
      "Requirement already satisfied: pytz>=2020.1 in /Users/sprohit/opt/anaconda3/lib/python3.9/site-packages (from pandas!=1.4.0,<1.6,>1.1->ydata-profiling->pandas-profiling) (2021.3)\n",
      "Requirement already satisfied: joblib>=0.14.1 in /Users/sprohit/opt/anaconda3/lib/python3.9/site-packages (from phik<0.13,>=0.11.1->ydata-profiling->pandas-profiling) (1.1.0)\n",
      "Requirement already satisfied: typing-extensions>=3.7.4.3 in /Users/sprohit/opt/anaconda3/lib/python3.9/site-packages (from pydantic<1.11,>=1.8.1->ydata-profiling->pandas-profiling) (3.10.0.2)\n",
      "Requirement already satisfied: certifi>=2017.4.17 in /Users/sprohit/opt/anaconda3/lib/python3.9/site-packages (from requests<2.29,>=2.24.0->ydata-profiling->pandas-profiling) (2021.10.8)\n",
      "Requirement already satisfied: idna<4,>=2.5 in /Users/sprohit/opt/anaconda3/lib/python3.9/site-packages (from requests<2.29,>=2.24.0->ydata-profiling->pandas-profiling) (3.2)\n",
      "Requirement already satisfied: charset-normalizer~=2.0.0 in /Users/sprohit/opt/anaconda3/lib/python3.9/site-packages (from requests<2.29,>=2.24.0->ydata-profiling->pandas-profiling) (2.0.12)\n",
      "Requirement already satisfied: urllib3<1.27,>=1.21.1 in /Users/sprohit/opt/anaconda3/lib/python3.9/site-packages (from requests<2.29,>=2.24.0->ydata-profiling->pandas-profiling) (1.26.7)\n",
      "Requirement already satisfied: patsy>=0.5.2 in /Users/sprohit/opt/anaconda3/lib/python3.9/site-packages (from statsmodels<0.14,>=0.13.2->ydata-profiling->pandas-profiling) (0.5.2)\n",
      "Installing collected packages: pandas-profiling\n",
      "Successfully installed pandas-profiling-3.6.6\n",
      "Note: you may need to restart the kernel to use updated packages.\n"
     ]
    }
   ],
   "source": [
    "pip install pandas-profiling"
   ]
  },
  {
   "cell_type": "code",
   "execution_count": 5,
   "id": "a088ca64",
   "metadata": {},
   "outputs": [],
   "source": [
    "from pandas_profiling import ProfileReport"
   ]
  },
  {
   "cell_type": "code",
   "execution_count": 6,
   "id": "06984263",
   "metadata": {},
   "outputs": [
    {
     "data": {
      "application/vnd.jupyter.widget-view+json": {
       "model_id": "35f711cb242749bdbdafefb22ec48d32",
       "version_major": 2,
       "version_minor": 0
      },
      "text/plain": [
       "Summarize dataset:   0%|          | 0/5 [00:00<?, ?it/s]"
      ]
     },
     "metadata": {},
     "output_type": "display_data"
    },
    {
     "data": {
      "application/vnd.jupyter.widget-view+json": {
       "model_id": "4f4d6db2f5744dcbbe490a2f7348277d",
       "version_major": 2,
       "version_minor": 0
      },
      "text/plain": [
       "Generate report structure:   0%|          | 0/1 [00:00<?, ?it/s]"
      ]
     },
     "metadata": {},
     "output_type": "display_data"
    },
    {
     "data": {
      "application/vnd.jupyter.widget-view+json": {
       "model_id": "fd2a42976e074fd7ae0dfd5d0bdf2a1d",
       "version_major": 2,
       "version_minor": 0
      },
      "text/plain": [
       "Render HTML:   0%|          | 0/1 [00:00<?, ?it/s]"
      ]
     },
     "metadata": {},
     "output_type": "display_data"
    },
    {
     "data": {
      "application/vnd.jupyter.widget-view+json": {
       "model_id": "d9f0363c7fad4543a36a05af025ac4d4",
       "version_major": 2,
       "version_minor": 0
      },
      "text/plain": [
       "Export report to file:   0%|          | 0/1 [00:00<?, ?it/s]"
      ]
     },
     "metadata": {},
     "output_type": "display_data"
    }
   ],
   "source": [
    "profile = ProfileReport(iris, title=\"Iris Dataset Profiling Report\")\n",
    "profile.to_file(\"iris_dataset_report.html\")"
   ]
  },
  {
   "cell_type": "code",
   "execution_count": 7,
   "id": "7c0d743b",
   "metadata": {},
   "outputs": [
    {
     "data": {
      "text/html": [
       "<div>\n",
       "<style scoped>\n",
       "    .dataframe tbody tr th:only-of-type {\n",
       "        vertical-align: middle;\n",
       "    }\n",
       "\n",
       "    .dataframe tbody tr th {\n",
       "        vertical-align: top;\n",
       "    }\n",
       "\n",
       "    .dataframe thead th {\n",
       "        text-align: right;\n",
       "    }\n",
       "</style>\n",
       "<table border=\"1\" class=\"dataframe\">\n",
       "  <thead>\n",
       "    <tr style=\"text-align: right;\">\n",
       "      <th></th>\n",
       "      <th>Id</th>\n",
       "      <th>SepalLengthCm</th>\n",
       "      <th>SepalWidthCm</th>\n",
       "      <th>PetalLengthCm</th>\n",
       "      <th>PetalWidthCm</th>\n",
       "    </tr>\n",
       "  </thead>\n",
       "  <tbody>\n",
       "    <tr>\n",
       "      <th>count</th>\n",
       "      <td>150.000000</td>\n",
       "      <td>150.000000</td>\n",
       "      <td>150.000000</td>\n",
       "      <td>150.000000</td>\n",
       "      <td>150.000000</td>\n",
       "    </tr>\n",
       "    <tr>\n",
       "      <th>mean</th>\n",
       "      <td>75.500000</td>\n",
       "      <td>5.843333</td>\n",
       "      <td>3.054000</td>\n",
       "      <td>3.758667</td>\n",
       "      <td>1.198667</td>\n",
       "    </tr>\n",
       "    <tr>\n",
       "      <th>std</th>\n",
       "      <td>43.445368</td>\n",
       "      <td>0.828066</td>\n",
       "      <td>0.433594</td>\n",
       "      <td>1.764420</td>\n",
       "      <td>0.763161</td>\n",
       "    </tr>\n",
       "    <tr>\n",
       "      <th>min</th>\n",
       "      <td>1.000000</td>\n",
       "      <td>4.300000</td>\n",
       "      <td>2.000000</td>\n",
       "      <td>1.000000</td>\n",
       "      <td>0.100000</td>\n",
       "    </tr>\n",
       "    <tr>\n",
       "      <th>25%</th>\n",
       "      <td>38.250000</td>\n",
       "      <td>5.100000</td>\n",
       "      <td>2.800000</td>\n",
       "      <td>1.600000</td>\n",
       "      <td>0.300000</td>\n",
       "    </tr>\n",
       "    <tr>\n",
       "      <th>50%</th>\n",
       "      <td>75.500000</td>\n",
       "      <td>5.800000</td>\n",
       "      <td>3.000000</td>\n",
       "      <td>4.350000</td>\n",
       "      <td>1.300000</td>\n",
       "    </tr>\n",
       "    <tr>\n",
       "      <th>75%</th>\n",
       "      <td>112.750000</td>\n",
       "      <td>6.400000</td>\n",
       "      <td>3.300000</td>\n",
       "      <td>5.100000</td>\n",
       "      <td>1.800000</td>\n",
       "    </tr>\n",
       "    <tr>\n",
       "      <th>max</th>\n",
       "      <td>150.000000</td>\n",
       "      <td>7.900000</td>\n",
       "      <td>4.400000</td>\n",
       "      <td>6.900000</td>\n",
       "      <td>2.500000</td>\n",
       "    </tr>\n",
       "  </tbody>\n",
       "</table>\n",
       "</div>"
      ],
      "text/plain": [
       "               Id  SepalLengthCm  SepalWidthCm  PetalLengthCm  PetalWidthCm\n",
       "count  150.000000     150.000000    150.000000     150.000000    150.000000\n",
       "mean    75.500000       5.843333      3.054000       3.758667      1.198667\n",
       "std     43.445368       0.828066      0.433594       1.764420      0.763161\n",
       "min      1.000000       4.300000      2.000000       1.000000      0.100000\n",
       "25%     38.250000       5.100000      2.800000       1.600000      0.300000\n",
       "50%     75.500000       5.800000      3.000000       4.350000      1.300000\n",
       "75%    112.750000       6.400000      3.300000       5.100000      1.800000\n",
       "max    150.000000       7.900000      4.400000       6.900000      2.500000"
      ]
     },
     "execution_count": 7,
     "metadata": {},
     "output_type": "execute_result"
    }
   ],
   "source": [
    "iris.describe()"
   ]
  },
  {
   "cell_type": "code",
   "execution_count": 9,
   "id": "50eefb6e",
   "metadata": {},
   "outputs": [
    {
     "data": {
      "text/plain": [
       "Species\n",
       "Iris-setosa        50\n",
       "Iris-versicolor    50\n",
       "Iris-virginica     50\n",
       "dtype: int64"
      ]
     },
     "execution_count": 9,
     "metadata": {},
     "output_type": "execute_result"
    }
   ],
   "source": [
    "# quick look at the intended output shows it has a normal distribution\n",
    "iris.value_counts('Species')"
   ]
  },
  {
   "cell_type": "code",
   "execution_count": 10,
   "id": "2bd64c05",
   "metadata": {},
   "outputs": [
    {
     "data": {
      "text/plain": [
       "4.35"
      ]
     },
     "execution_count": 10,
     "metadata": {},
     "output_type": "execute_result"
    }
   ],
   "source": [
    "iris['PetalLengthCm'].median()"
   ]
  },
  {
   "cell_type": "code",
   "execution_count": 11,
   "id": "08c2c0ec",
   "metadata": {},
   "outputs": [
    {
     "name": "stdout",
     "output_type": "stream",
     "text": [
      "The index of the flower with the longest sepal length of 7.9cm is 131\n"
     ]
    }
   ],
   "source": [
    "value = iris['SepalLengthCm'].max()\n",
    "idx = iris['SepalLengthCm'].idxmax()\n",
    "\n",
    "print('The index of the flower with the longest sepal length of ' \n",
    "      + str(value) +'cm is '+ str(idx))"
   ]
  },
  {
   "cell_type": "code",
   "execution_count": 13,
   "id": "82af90ab",
   "metadata": {},
   "outputs": [],
   "source": [
    "sns.heatmap(iris.corr(method='pearson'),annot = True);\n",
    "\n",
    "plt.show()"
   ]
  },
  {
   "cell_type": "code",
   "execution_count": 14,
   "id": "aeaf829e",
   "metadata": {},
   "outputs": [
    {
     "name": "stdout",
     "output_type": "stream",
     "text": [
      "Int64Index([], dtype='int64')\n"
     ]
    }
   ],
   "source": [
    "duplicated_rows=iris[iris.duplicated(keep=False)]\n",
    "duplicated_index = duplicated_rows.index\n",
    "print(duplicated_index)"
   ]
  },
  {
   "cell_type": "code",
   "execution_count": 15,
   "id": "42ad1273",
   "metadata": {},
   "outputs": [],
   "source": [
    "X = iris.iloc[:, :-1].values\n",
    "y = iris.iloc[:, 4].values"
   ]
  },
  {
   "cell_type": "code",
   "execution_count": 16,
   "id": "3ae1dd59",
   "metadata": {},
   "outputs": [
    {
     "name": "stdout",
     "output_type": "stream",
     "text": [
      "(150, 5)\n",
      "(150,)\n"
     ]
    }
   ],
   "source": [
    "print(X.shape)\n",
    "print(y.shape)"
   ]
  },
  {
   "cell_type": "code",
   "execution_count": 17,
   "id": "8fafa4b6",
   "metadata": {},
   "outputs": [],
   "source": [
    "X_train, X_test, y_train, y_test = train_test_split(X, y, test_size=0.20, random_state=SEED)"
   ]
  },
  {
   "cell_type": "code",
   "execution_count": 18,
   "id": "14f3ebb8",
   "metadata": {},
   "outputs": [
    {
     "data": {
      "text/plain": [
       "(120, 5)"
      ]
     },
     "execution_count": 18,
     "metadata": {},
     "output_type": "execute_result"
    }
   ],
   "source": [
    "X_train.shape"
   ]
  },
  {
   "cell_type": "code",
   "execution_count": 19,
   "id": "1cbbf4b7",
   "metadata": {},
   "outputs": [
    {
     "data": {
      "text/plain": [
       "(30, 5)"
      ]
     },
     "execution_count": 19,
     "metadata": {},
     "output_type": "execute_result"
    }
   ],
   "source": [
    "X_test.shape"
   ]
  },
  {
   "cell_type": "code",
   "execution_count": null,
   "id": "9b254770",
   "metadata": {},
   "outputs": [],
   "source": []
  }
 ],
 "metadata": {
  "kernelspec": {
   "display_name": "Python 3 (ipykernel)",
   "language": "python",
   "name": "python3"
  },
  "language_info": {
   "codemirror_mode": {
    "name": "ipython",
    "version": 3
   },
   "file_extension": ".py",
   "mimetype": "text/x-python",
   "name": "python",
   "nbconvert_exporter": "python",
   "pygments_lexer": "ipython3",
   "version": "3.9.7"
  }
 },
 "nbformat": 4,
 "nbformat_minor": 5
}
